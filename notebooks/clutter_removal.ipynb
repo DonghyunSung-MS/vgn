{
 "cells": [
  {
   "cell_type": "markdown",
   "source": [
    "# Clutter Removal Experiment\n",
    "\n",
    "Use this notebook to analyze the results of a clutter removal experiment."
   ],
   "metadata": {}
  },
  {
   "cell_type": "code",
   "execution_count": null,
   "source": [
    "import os\n",
    "os.chdir('..')"
   ],
   "outputs": [],
   "metadata": {}
  },
  {
   "cell_type": "code",
   "execution_count": 1,
   "source": [
    "from pathlib import Path\n",
    "\n",
    "from vgn.experiments import clutter_removal"
   ],
   "outputs": [
    {
     "output_type": "stream",
     "name": "stdout",
     "text": [
      "Jupyter environment detected. Enabling Open3D WebVisualizer.\n",
      "[Open3D INFO] WebRTC GUI backend enabled.\n",
      "[Open3D INFO] WebRTCWindowSystem: HTTP handshake server disabled.\n"
     ]
    },
    {
     "output_type": "stream",
     "name": "stderr",
     "text": [
      "INFO - 2021-08-13 16:31:23,782 - topics - topicmanager initialized\n"
     ]
    }
   ],
   "metadata": {}
  },
  {
   "cell_type": "markdown",
   "source": [
    "Path to the log directory of the experiment."
   ],
   "metadata": {}
  },
  {
   "cell_type": "code",
   "execution_count": null,
   "source": [
    "logdir = Path(\"data/experiments/...\")"
   ],
   "outputs": [],
   "metadata": {}
  },
  {
   "cell_type": "code",
   "execution_count": null,
   "source": [
    "data = clutter_removal.Data(logdir)"
   ],
   "outputs": [],
   "metadata": {}
  },
  {
   "cell_type": "markdown",
   "source": [
    "First, we compute the following metrics for the experiment:\n",
    "\n",
    "* **Success rate**: the ratio of successful grasp executions,\n",
    "* **Percent cleared**: the percentage of objects removed during each round,\n",
    "* **Planning time**: the time between receiving a voxel grid/point cloud and returning a list of grasp candidates."
   ],
   "metadata": {}
  },
  {
   "cell_type": "code",
   "execution_count": null,
   "source": [
    "print(\"Num grasps:        \", data.num_grasps())\n",
    "print(\"Success rate:      \", data.success_rate())\n",
    "print(\"Percent cleared:   \", data.percent_cleared())\n",
    "print(\"Avg planning time: \", data.avg_planning_time())"
   ],
   "outputs": [],
   "metadata": {}
  },
  {
   "cell_type": "markdown",
   "source": [
    "Next, we visualize the failure cases. Make sure to have a ROS core running and open `config/sim.rviz` in RViz."
   ],
   "metadata": {}
  },
  {
   "cell_type": "code",
   "execution_count": null,
   "source": [
    "import rospy\n",
    "from vgn import vis\n",
    "\n",
    "rospy.init_node(\"vgn_vis\", anonymous=True)"
   ],
   "outputs": [],
   "metadata": {}
  },
  {
   "cell_type": "code",
   "execution_count": null,
   "source": [
    "failures = data.grasps[data.grasps[\"label\"] == 0].index.tolist()\n",
    "iterator = iter(failures)"
   ],
   "outputs": [],
   "metadata": {}
  },
  {
   "cell_type": "code",
   "execution_count": null,
   "source": [
    "i = next(iterator)\n",
    "points, grasp, score, label = data.read_grasp(i)\n",
    "\n",
    "vis.clear()\n",
    "vis.draw_workspace(0.3)\n",
    "vis.draw_points(points)\n",
    "vis.draw_grasp(grasp, label, 0.05)"
   ],
   "outputs": [],
   "metadata": {}
  },
  {
   "cell_type": "code",
   "execution_count": null,
   "source": [],
   "outputs": [],
   "metadata": {}
  }
 ],
 "metadata": {
  "kernelspec": {
   "name": "python3",
   "display_name": "Python 3.6.13 64-bit ('open3d': conda)"
  },
  "language_info": {
   "codemirror_mode": {
    "name": "ipython",
    "version": 3
   },
   "file_extension": ".py",
   "mimetype": "text/x-python",
   "name": "python",
   "nbconvert_exporter": "python",
   "pygments_lexer": "ipython3",
   "version": "3.6.13"
  },
  "interpreter": {
   "hash": "5e1ef14aee70c3e032249136b43f591a74aed82a2de8d9f7ca4254dd2244139b"
  }
 },
 "nbformat": 4,
 "nbformat_minor": 4
}